{
  "nbformat": 4,
  "nbformat_minor": 0,
  "metadata": {
    "colab": {
      "name": "Untitled0.ipynb",
      "provenance": [],
      "collapsed_sections": [],
      "authorship_tag": "ABX9TyPukTTUNFvYA6hhWRLw8cCO",
      "include_colab_link": true
    },
    "kernelspec": {
      "name": "python3",
      "display_name": "Python 3"
    },
    "language_info": {
      "name": "python"
    }
  },
  "cells": [
    {
      "cell_type": "markdown",
      "metadata": {
        "id": "view-in-github",
        "colab_type": "text"
      },
      "source": [
        "<a href=\"https://colab.research.google.com/github/Nidhalm/Complete-Python-3-Bootcamp/blob/master/Untitled0.ipynb\" target=\"_parent\"><img src=\"https://colab.research.google.com/assets/colab-badge.svg\" alt=\"Open In Colab\"/></a>"
      ]
    },
    {
      "cell_type": "code",
      "metadata": {
        "colab": {
          "base_uri": "https://localhost:8080/"
        },
        "id": "MXGpjmvSUUnz",
        "outputId": "61aad8d8-846f-4ac3-ac53-9eca71223e86"
      },
      "source": [
        "!cd MyDrive"
      ],
      "execution_count": null,
      "outputs": [
        {
          "output_type": "stream",
          "name": "stdout",
          "text": [
            "/bin/bash: line 0: cd: MyDrive: No such file or directory\n"
          ]
        }
      ]
    },
    {
      "cell_type": "code",
      "metadata": {
        "id": "d1Yo-hNUUbQQ"
      },
      "source": [
        "from sklearn import datasets\n",
        "import pandas as pd\n",
        "iris = datasets.load_iris()"
      ],
      "execution_count": null,
      "outputs": []
    },
    {
      "cell_type": "code",
      "metadata": {
        "colab": {
          "base_uri": "https://localhost:8080/"
        },
        "id": "pkfTHT_WYEkU",
        "outputId": "36920dd2-2a2a-486a-ce96-584053092203"
      },
      "source": [
        "!wget"
      ],
      "execution_count": null,
      "outputs": [
        {
          "output_type": "stream",
          "name": "stdout",
          "text": [
            "wget: missing URL\n",
            "Usage: wget [OPTION]... [URL]...\n",
            "\n",
            "Try `wget --help' for more options.\n"
          ]
        }
      ]
    },
    {
      "cell_type": "code",
      "metadata": {
        "colab": {
          "base_uri": "https://localhost:8080/"
        },
        "id": "KbGu9HwxYF2R",
        "outputId": "c20f22d3-1897-4e89-915c-c6b5efc9a76b"
      },
      "source": [
        "!cp iris.data /content/drive/content"
      ],
      "execution_count": null,
      "outputs": [
        {
          "output_type": "stream",
          "name": "stdout",
          "text": [
            "cp: cannot stat 'iris.data': No such file or directory\n"
          ]
        }
      ]
    },
    {
      "cell_type": "code",
      "metadata": {
        "id": "zbz8q5Bmd7Zs"
      },
      "source": [
        ""
      ],
      "execution_count": null,
      "outputs": []
    },
    {
      "cell_type": "code",
      "metadata": {
        "id": "vz-jH8T_Uk2c",
        "colab": {
          "base_uri": "https://localhost:8080/",
          "height": 135
        },
        "outputId": "1696cf23-12bd-4670-905a-b724a1ac32b9"
      },
      "source": [
        "\\mathbf(N)"
      ],
      "execution_count": null,
      "outputs": [
        {
          "output_type": "error",
          "ename": "SyntaxError",
          "evalue": "ignored",
          "traceback": [
            "\u001b[0;36m  File \u001b[0;32m\"<ipython-input-13-934d477545a5>\"\u001b[0;36m, line \u001b[0;32m1\u001b[0m\n\u001b[0;31m    \\mathbf(N)\u001b[0m\n\u001b[0m              ^\u001b[0m\n\u001b[0;31mSyntaxError\u001b[0m\u001b[0;31m:\u001b[0m unexpected character after line continuation character\n"
          ]
        }
      ]
    },
    {
      "cell_type": "markdown",
      "metadata": {
        "id": "V-O24vbbjWZM"
      },
      "source": [
        "$\\mathbf{N}$"
      ]
    },
    {
      "cell_type": "code",
      "metadata": {
        "colab": {
          "base_uri": "https://localhost:8080/",
          "height": 172
        },
        "id": "aygSeD_XeTBk",
        "outputId": "53f16a01-25db-49d5-cdcf-8d2708c5d319"
      },
      "source": [
        "print('Hello{},{}'.format(Jack,20))"
      ],
      "execution_count": null,
      "outputs": [
        {
          "output_type": "error",
          "ename": "NameError",
          "evalue": "ignored",
          "traceback": [
            "\u001b[0;31m---------------------------------------------------------------------------\u001b[0m",
            "\u001b[0;31mNameError\u001b[0m                                 Traceback (most recent call last)",
            "\u001b[0;32m<ipython-input-14-b2b83b8e9757>\u001b[0m in \u001b[0;36m<module>\u001b[0;34m()\u001b[0m\n\u001b[0;32m----> 1\u001b[0;31m \u001b[0mprint\u001b[0m\u001b[0;34m(\u001b[0m\u001b[0;34m'Hello{},{}'\u001b[0m\u001b[0;34m.\u001b[0m\u001b[0mformat\u001b[0m\u001b[0;34m(\u001b[0m\u001b[0mJack\u001b[0m\u001b[0;34m,\u001b[0m\u001b[0;36m20\u001b[0m\u001b[0;34m)\u001b[0m\u001b[0;34m)\u001b[0m\u001b[0;34m\u001b[0m\u001b[0;34m\u001b[0m\u001b[0m\n\u001b[0m",
            "\u001b[0;31mNameError\u001b[0m: name 'Jack' is not defined"
          ]
        }
      ]
    },
    {
      "cell_type": "code",
      "metadata": {
        "colab": {
          "base_uri": "https://localhost:8080/",
          "height": 36
        },
        "id": "OvcdpdrCl-e5",
        "outputId": "39ae8a19-0cd7-44c6-858a-d21aaef28504"
      },
      "source": [
        "'Hello{},{}'.format(name,age)"
      ],
      "execution_count": null,
      "outputs": [
        {
          "output_type": "execute_result",
          "data": {
            "application/vnd.google.colaboratory.intrinsic+json": {
              "type": "string"
            },
            "text/plain": [
              "'HelloJack,20'"
            ]
          },
          "metadata": {},
          "execution_count": 22
        }
      ]
    },
    {
      "cell_type": "code",
      "metadata": {
        "id": "-n16Ygo8mAdl"
      },
      "source": [
        "name='Jack'"
      ],
      "execution_count": null,
      "outputs": []
    },
    {
      "cell_type": "code",
      "metadata": {
        "id": "ocCtjUQqmRuG"
      },
      "source": [
        "age=20"
      ],
      "execution_count": null,
      "outputs": []
    },
    {
      "cell_type": "code",
      "metadata": {
        "id": "oR0YImw6mTmg",
        "colab": {
          "base_uri": "https://localhost:8080/",
          "height": 338
        },
        "outputId": "f04dacee-0efa-40db-c0cc-45a8c96624ed"
      },
      "source": [
        "def list_of_folder_jpg (input_path, format_file):\n",
        "  # declare a variable that is listing my files located inside a directory\n",
        "  list_of_my_path = os.listdir(input_path)\n",
        "\n",
        "  # declare a variable that is an empty list\n",
        "  good_elements = []\n",
        "  # start a for loop to look for all elements in my list of files\n",
        "  # (relative path format)\n",
        "  for element in list_of_my_path:\n",
        "    #create a variable that is storing one full path of my file\n",
        "    full_path_file = os.path.join(input_path, element)\n",
        "    # we start an if condition to make sure the full path of that element is a file\n",
        "    if os.path.isfile(full_path_file):\n",
        "    # we add this full path file to the list of good elements\n",
        "      good_elements.append(full_path_file)\n",
        "  # declare a variable that is counting the number of elements in the list good elements\n",
        "  number_of_elements = len(good_elements)\n",
        "  # return the tuple\n",
        "  return (good_elements,number_of_elements)\n",
        "list_of_folder_jpg('/content/drive/Mydrive','jpg')"
      ],
      "execution_count": 39,
      "outputs": [
        {
          "output_type": "error",
          "ename": "FileNotFoundError",
          "evalue": "ignored",
          "traceback": [
            "\u001b[0;31m---------------------------------------------------------------------------\u001b[0m",
            "\u001b[0;31mFileNotFoundError\u001b[0m                         Traceback (most recent call last)",
            "\u001b[0;32m<ipython-input-39-18e25b7653c2>\u001b[0m in \u001b[0;36m<module>\u001b[0;34m()\u001b[0m\n\u001b[1;32m     18\u001b[0m   \u001b[0;31m# return the tuple\u001b[0m\u001b[0;34m\u001b[0m\u001b[0;34m\u001b[0m\u001b[0;34m\u001b[0m\u001b[0m\n\u001b[1;32m     19\u001b[0m   \u001b[0;32mreturn\u001b[0m \u001b[0;34m(\u001b[0m\u001b[0mgood_elements\u001b[0m\u001b[0;34m,\u001b[0m\u001b[0mnumber_of_elements\u001b[0m\u001b[0;34m)\u001b[0m\u001b[0;34m\u001b[0m\u001b[0;34m\u001b[0m\u001b[0m\n\u001b[0;32m---> 20\u001b[0;31m \u001b[0mlist_of_folder_jpg\u001b[0m\u001b[0;34m(\u001b[0m\u001b[0;34m'/content/drive/Mydrive'\u001b[0m\u001b[0;34m,\u001b[0m\u001b[0;34m'jpg'\u001b[0m\u001b[0;34m)\u001b[0m\u001b[0;34m\u001b[0m\u001b[0;34m\u001b[0m\u001b[0m\n\u001b[0m",
            "\u001b[0;32m<ipython-input-39-18e25b7653c2>\u001b[0m in \u001b[0;36mlist_of_folder_jpg\u001b[0;34m(input_path, format_file)\u001b[0m\n\u001b[1;32m      1\u001b[0m \u001b[0;32mdef\u001b[0m \u001b[0mlist_of_folder_jpg\u001b[0m \u001b[0;34m(\u001b[0m\u001b[0minput_path\u001b[0m\u001b[0;34m,\u001b[0m \u001b[0mformat_file\u001b[0m\u001b[0;34m)\u001b[0m\u001b[0;34m:\u001b[0m\u001b[0;34m\u001b[0m\u001b[0;34m\u001b[0m\u001b[0m\n\u001b[1;32m      2\u001b[0m   \u001b[0;31m# declare a variable that is listing my files located inside a directory\u001b[0m\u001b[0;34m\u001b[0m\u001b[0;34m\u001b[0m\u001b[0;34m\u001b[0m\u001b[0m\n\u001b[0;32m----> 3\u001b[0;31m   \u001b[0mlist_of_my_path\u001b[0m \u001b[0;34m=\u001b[0m \u001b[0mos\u001b[0m\u001b[0;34m.\u001b[0m\u001b[0mlistdir\u001b[0m\u001b[0;34m(\u001b[0m\u001b[0minput_path\u001b[0m\u001b[0;34m)\u001b[0m\u001b[0;34m\u001b[0m\u001b[0;34m\u001b[0m\u001b[0m\n\u001b[0m\u001b[1;32m      4\u001b[0m \u001b[0;34m\u001b[0m\u001b[0m\n\u001b[1;32m      5\u001b[0m   \u001b[0;31m# declare a variable that is an empty list\u001b[0m\u001b[0;34m\u001b[0m\u001b[0;34m\u001b[0m\u001b[0;34m\u001b[0m\u001b[0m\n",
            "\u001b[0;31mFileNotFoundError\u001b[0m: [Errno 2] No such file or directory: '/content/drive/Mydrive'"
          ]
        }
      ]
    },
    {
      "cell_type": "code",
      "metadata": {
        "colab": {
          "base_uri": "https://localhost:8080/",
          "height": 376
        },
        "id": "fCDF7w3NAtvD",
        "outputId": "3127f90c-3e91-4b45-997e-3ed7ef772fa3"
      },
      "source": [
        "from google.colab import drive\n",
        "drive.mount('/content/drive')"
      ],
      "execution_count": 45,
      "outputs": [
        {
          "output_type": "stream",
          "name": "stdout",
          "text": [
            "Drive already mounted at /content/drive; to attempt to forcibly remount, call drive.mount(\"/content/drive\", force_remount=True).\n"
          ]
        },
        {
          "output_type": "error",
          "ename": "FileNotFoundError",
          "evalue": "ignored",
          "traceback": [
            "\u001b[0;31m---------------------------------------------------------------------------\u001b[0m",
            "\u001b[0;31mFileNotFoundError\u001b[0m                         Traceback (most recent call last)",
            "\u001b[0;32m<ipython-input-45-1ebf502a8901>\u001b[0m in \u001b[0;36m<module>\u001b[0;34m()\u001b[0m\n\u001b[1;32m     18\u001b[0m \u001b[0;34m\u001b[0m\u001b[0m\n\u001b[1;32m     19\u001b[0m   \u001b[0;32mreturn\u001b[0m \u001b[0;34m(\u001b[0m\u001b[0mgood_elements\u001b[0m\u001b[0;34m,\u001b[0m\u001b[0mnumber_of_elements\u001b[0m\u001b[0;34m)\u001b[0m\u001b[0;34m\u001b[0m\u001b[0;34m\u001b[0m\u001b[0m\n\u001b[0;32m---> 20\u001b[0;31m \u001b[0mlist_of_folder_3\u001b[0m\u001b[0;34m(\u001b[0m\u001b[0;34m'drive/Mydrive'\u001b[0m\u001b[0;34m,\u001b[0m\u001b[0;34m'jpg'\u001b[0m\u001b[0;34m)\u001b[0m\u001b[0;34m\u001b[0m\u001b[0;34m\u001b[0m\u001b[0m\n\u001b[0m",
            "\u001b[0;32m<ipython-input-45-1ebf502a8901>\u001b[0m in \u001b[0;36mlist_of_folder_3\u001b[0;34m(mypath, fileformat)\u001b[0m\n\u001b[1;32m      6\u001b[0m   \u001b[0mwhislt\u001b[0m \u001b[0mensuring\u001b[0m \u001b[0mit\u001b[0m \u001b[0mdoesn\u001b[0m\u001b[0;31m'\u001b[0m\u001b[0mt\u001b[0m \u001b[0;32mreturn\u001b[0m \u001b[0mfolders\u001b[0m\u001b[0;34m\u001b[0m\u001b[0;34m\u001b[0m\u001b[0m\n\u001b[1;32m      7\u001b[0m   '''\n\u001b[0;32m----> 8\u001b[0;31m   \u001b[0mlist_of_my_path\u001b[0m\u001b[0;34m=\u001b[0m\u001b[0mos\u001b[0m\u001b[0;34m.\u001b[0m\u001b[0mlistdir\u001b[0m\u001b[0;34m(\u001b[0m\u001b[0mmypath\u001b[0m\u001b[0;34m)\u001b[0m\u001b[0;34m\u001b[0m\u001b[0;34m\u001b[0m\u001b[0m\n\u001b[0m\u001b[1;32m      9\u001b[0m   \u001b[0mnumber_of_elements\u001b[0m\u001b[0;34m=\u001b[0m\u001b[0mlen\u001b[0m\u001b[0;34m(\u001b[0m\u001b[0mmypath\u001b[0m\u001b[0;34m)\u001b[0m\u001b[0;34m\u001b[0m\u001b[0;34m\u001b[0m\u001b[0m\n\u001b[1;32m     10\u001b[0m \u001b[0;34m\u001b[0m\u001b[0m\n",
            "\u001b[0;31mFileNotFoundError\u001b[0m: [Errno 2] No such file or directory: 'drive/Mydrive'"
          ]
        }
      ]
    },
    {
      "cell_type": "code",
      "metadata": {
        "colab": {
          "base_uri": "https://localhost:8080/"
        },
        "id": "gmvp7DdYWyHk",
        "outputId": "b60a22b3-a7e7-4de3-d081-752e47c6c907"
      },
      "source": [
        "def list_of_folder_3(mypath,fileformat):\n",
        "  '''\n",
        "  This function returns the number of files in this folder and list the files\n",
        "  whislt ensuring it doesn't return folders\n",
        "  '''\n",
        "  list_of_my_path=os.listdir(mypath)\n",
        "  number_of_elements=len(mypath)\n",
        "\n",
        "  good_elements=[]\n",
        "  for element in list_of_my_path:\n",
        "    my_file=os.path.join(mypath,element)\n",
        "    if os.path.isfile(my_file) and os.path.splitext(my_file)[1]==fileformat:\n",
        "      good_elements.append(element)\n",
        "\n",
        "  number_of_elements=len(good_elements)\n",
        "\n",
        "  return (good_elements,number_of_elements)\n",
        "list_of_folder_3('drive/MyDrive','.pdf')  "
      ],
      "execution_count": 51,
      "outputs": [
        {
          "output_type": "execute_result",
          "data": {
            "text/plain": [
              "(['mémoire nidhal.pdf',\n",
              "  'relevé de notes 1AGC.pdf',\n",
              "  'relevé de notes 2AGC.pdf',\n",
              "  'OH-Chap 0.pdf',\n",
              "  'Présentation du sujet.pdf',\n",
              "  'PFE Nidhal Mannai.pdf',\n",
              "  'CV_Nidhal_Mannai.pdf',\n",
              "  'Serge Laroze-Mécanique des structures. Tome 5. Poutres. Exercices-Cépaduès-Editions (2005).pdf',\n",
              "  'Serge Laroze-Mécanique des structures. Tome 6. Thermique des structures, dynamique des structures. Exercices-Cépaduès-Editions (2005)(2).pdf',\n",
              "  'Serge Laroze-Mécanique des structures. Tome 3. Thermique des structures, dynamique des structures-Cépaduès-Editions (2005)(4).pdf',\n",
              "  'Serge Laroze-Mécanique générale-Cépaduès-Editions (2005).pdf',\n",
              "  'CAZ - MASTER.pdf',\n",
              "  'Lettre de recommandation Pr.Limam.pdf',\n",
              "  'INSAL_FIMI_EdTrentree20192020-V9_20190722.pdf',\n",
              "  'Thomas-Piketty-Capitalisme-et-idéologie-Le-Seuil-2019.pdf',\n",
              "  'Aaron Bastani - Fully Automated Luxury Communism_ A Manifesto (2019, Verso).pdf',\n",
              "  'nidhalmanai_gmail.com_LM.pdf',\n",
              "  'demande.pdf',\n",
              "  'cotutelle (1).pdf',\n",
              "  'في المسألة الدي-WPS Office.pdf',\n",
              "  'integrales_impropres.pdf',\n",
              "  'suite.pdf',\n",
              "  'matrice_ortho.pdf',\n",
              "  'taylor.pdf',\n",
              "  'suite_2.pdf',\n",
              "  'reduction.pdf',\n",
              "  'equadiff.pdf',\n",
              "  'Programme_homogeneisation.pdf',\n",
              "  'integrale_simple.pdf',\n",
              "  'appl_lineaires_2.pdf',\n",
              "  'syslin.pdf',\n",
              "  'integration_fractions_rationelles.pdf',\n",
              "  'ipp.pdf',\n",
              "  'taylor_2.pdf',\n",
              "  'suites_et_series_de_fonctions_2.pdf',\n",
              "  'dev-limites.pdf',\n",
              "  'determinant.pdf',\n",
              "  'integrale_simple_chg_var.pdf',\n",
              "  'matrice.pdf',\n",
              "  'series_numeriques_2.pdf',\n",
              "  'Scan_0471.pdf'],\n",
              " 41)"
            ]
          },
          "metadata": {},
          "execution_count": 51
        }
      ]
    }
  ]
}